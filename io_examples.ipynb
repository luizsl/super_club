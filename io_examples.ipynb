{
 "cells": [
  {
   "cell_type": "markdown",
   "id": "3edfcf50-c130-4854-878d-e3c075adb64e",
   "metadata": {},
   "source": [
    "# I/O de dados em python"
   ]
  },
  {
   "cell_type": "markdown",
   "id": "1816fe05-6b13-4ba6-8fde-9ad12885c46b",
   "metadata": {},
   "source": [
    "I/O se refere a input (entrada) ou output (saída). É um termo de aplicação bastante ampla, aplicado em diversos ramos da ciência e tecnologia para se referir ao processo de comunicação entre componentes de um sistema. No contexto dessa apresentação, nos voltamos a I/O de dados em python. \n",
    "\n",
    "No que se refere ao *input*, dados advindos de um local são lidos ou recebidos por meio de um programa, possibilitando a sua utilização. Já no *output*, produtos de nossas operações são armazenados ou enviados para outras localidades.\n",
    "\n",
    "Essas operações são muito recorrentes na análise de dados. Existem variações conforme a estrutura de dados, sua extensão, capacidades das máquinas utilizadas, entre outros aspectos. Mas, ainda assim, é possível apresentarmos alguns exemplos que ilustrem algumas das operações mais comuns que podem servir de ponto de partida para a execução de procedimentos com outras particularidades."
   ]
  },
  {
   "cell_type": "markdown",
   "id": "a1e7ccae-cb05-411e-952d-753a8b403381",
   "metadata": {},
   "source": [
    "## Leitura de dados"
   ]
  },
  {
   "cell_type": "markdown",
   "id": "6d22277f-82d6-4e3d-a870-5b46a38d9d45",
   "metadata": {},
   "source": [
    "### open()\n",
    "[open()](https://docs.python.org/3/library/functions.html#open) é uma das funções built-in em python. Essas são as funções mais básicas da linguagem, são programadas de modo a serem muito otimizadas. open() será usada frequentemente tanto para leitura quanto escrita de dados. "
   ]
  },
  {
   "cell_type": "markdown",
   "id": "223e12c7-c052-4a24-a5a4-bf82bb77bfe0",
   "metadata": {},
   "source": [
    "Iniciamos carregando o arquivo lorem.txt, gerando o objeto f do tipo [file object](https://docs.python.org/3/glossary.html#term-file-object)"
   ]
  },
  {
   "cell_type": "code",
   "execution_count": 27,
   "id": "d4c71a7b-389a-409d-bc51-8a9ff01a50bd",
   "metadata": {},
   "outputs": [
    {
     "name": "stdout",
     "output_type": "stream",
     "text": [
      "<class '_io.TextIOWrapper'>\n"
     ]
    }
   ],
   "source": [
    "lorem_path='lorem.txt'\n",
    "\n",
    "f = open(lorem_path)\n",
    "print(type(f))"
   ]
  },
  {
   "cell_type": "markdown",
   "id": "12558c00-d71e-4136-9e86-1166549327ee",
   "metadata": {},
   "source": [
    "O método read() lê o conteúdo do objeto f, nesse caso associamos esses dados a variável lorem_content"
   ]
  },
  {
   "cell_type": "code",
   "execution_count": 28,
   "id": "70156bfb-878b-4eb3-aa53-67142469e6d0",
   "metadata": {},
   "outputs": [
    {
     "name": "stdout",
     "output_type": "stream",
     "text": [
      "Lorem ipsum dolor sit amet. Eos tempore voluptatem est atque quae et facere distinctio? Sed placeat similique qui perspiciatis quas ut recusandae ratione?\n",
      "\n",
      "Et quae quod qui error dolores vel quasi asperiores eum omnis unde ea aliquid illo. Sed voluptas corrupti est velit nulla rem consequuntur velit.\n",
      "\n",
      "Est nobis veritatis et ratione esse non illo veniam ea tempora culpa est velit iste. Non iusto earum ut iste voluptates ut quas magni sit nemo consequatur quo repellat ducimus sed amet earum. Sed dicta omnis et quos quia et galisum placeat aut voluptatem molestiae ad voluptatem nobis. Ut autem vero id quisquam dolore aut asperiores dolor non dolores odio aut excepturi ipsam et rerum amet.\n",
      "\n",
      "SUPER coding club!\n"
     ]
    }
   ],
   "source": [
    "lorem_content = f.read()\n",
    "\n",
    "print(lorem_content)"
   ]
  },
  {
   "cell_type": "markdown",
   "id": "b07b5749-8728-4156-8543-2a1abe23e8c9",
   "metadata": {},
   "source": [
    "### Ponteiro de leitura\n",
    "\n",
    "Uma vez utilizado read(), o ponteiro de leitura se move para o final do arquivo f, não havendo mais nada a ser lido. Uma nova tentativa de gerar uma variável com o conteúdo de f resulta em uma string vazia."
   ]
  },
  {
   "cell_type": "code",
   "execution_count": 29,
   "id": "1382b36b-1524-466d-a576-e5cd9994e749",
   "metadata": {},
   "outputs": [
    {
     "name": "stdout",
     "output_type": "stream",
     "text": [
      "\n"
     ]
    }
   ],
   "source": [
    "lorem_content2 = f.read()\n",
    "print(lorem_content2)"
   ]
  },
  {
   "cell_type": "markdown",
   "id": "c75d8d78-1ad8-4230-82f0-a140db0f8896",
   "metadata": {},
   "source": [
    "### seek()\n",
    "\n",
    "Podemos retornar o ponteiro, a posição inicial, podemos usar o método seek()"
   ]
  },
  {
   "cell_type": "code",
   "execution_count": 30,
   "id": "b27f54be-b689-4bb9-95d7-8f37c62c1441",
   "metadata": {},
   "outputs": [
    {
     "name": "stdout",
     "output_type": "stream",
     "text": [
      "Lorem ipsum dolor sit amet. Eos tempore voluptatem est atque quae et facere distinctio? Sed placeat similique qui perspiciatis quas ut recusandae ratione?\n",
      "\n",
      "Et quae quod qui error dolores vel quasi asperiores eum omnis unde ea aliquid illo. Sed voluptas corrupti est velit nulla rem consequuntur velit.\n",
      "\n",
      "Est nobis veritatis et ratione esse non illo veniam ea tempora culpa est velit iste. Non iusto earum ut iste voluptates ut quas magni sit nemo consequatur quo repellat ducimus sed amet earum. Sed dicta omnis et quos quia et galisum placeat aut voluptatem molestiae ad voluptatem nobis. Ut autem vero id quisquam dolore aut asperiores dolor non dolores odio aut excepturi ipsam et rerum amet.\n",
      "\n",
      "SUPER coding club!\n"
     ]
    }
   ],
   "source": [
    "f.seek(0)\n",
    "lorem_content3 = f.read()\n",
    "print(lorem_content3)"
   ]
  },
  {
   "cell_type": "markdown",
   "id": "0d752346-da93-4b1e-93dd-4665c379a332",
   "metadata": {},
   "source": [
    "### close()\n",
    "\n",
    "Sempre após a utilização do arquivo, devemos aplicar o método close() para evitar conflitos com outras operações no arquivo. A variável closed igual a True indica que o arquivo está fechado."
   ]
  },
  {
   "cell_type": "code",
   "execution_count": 31,
   "id": "e9cb4b0f-8d2a-4d5e-aadb-8398c0b26629",
   "metadata": {},
   "outputs": [
    {
     "name": "stdout",
     "output_type": "stream",
     "text": [
      "True\n"
     ]
    }
   ],
   "source": [
    "f.close()\n",
    "\n",
    "print(f.closed)"
   ]
  },
  {
   "cell_type": "markdown",
   "id": "664200f2-ffb4-451a-aced-2e0c3ce0816e",
   "metadata": {},
   "source": [
    "A partir disso, o arquivo passa a não estar disponível para operações novamente. A tentativa de leitura, resultado em um erro."
   ]
  },
  {
   "cell_type": "code",
   "execution_count": 32,
   "id": "651abebb-e1c3-488e-b558-1345d9007b63",
   "metadata": {},
   "outputs": [
    {
     "name": "stdout",
     "output_type": "stream",
     "text": [
      "I/O operation on closed file.\n"
     ]
    }
   ],
   "source": [
    "try:\n",
    "    f.read()\n",
    "except Exception as e:\n",
    "    print(e)"
   ]
  },
  {
   "cell_type": "markdown",
   "id": "356fbeca-2d35-476b-88ec-96ef3a120ee3",
   "metadata": {},
   "source": [
    "No entanto, as variáveis com seu conteúdo continuam a existir."
   ]
  },
  {
   "cell_type": "code",
   "execution_count": 33,
   "id": "96e6d708-ed9d-4049-86be-48b95caa61d9",
   "metadata": {},
   "outputs": [
    {
     "name": "stdout",
     "output_type": "stream",
     "text": [
      "Lorem ipsum dolor sit amet. Eos tempore voluptatem est atque quae et facere distinctio? Sed placeat similique qui perspiciatis quas ut recusandae ratione?\n",
      "\n",
      "Et quae quod qui error dolores vel quasi asperiores eum omnis unde ea aliquid illo. Sed voluptas corrupti est velit nulla rem consequuntur velit.\n",
      "\n",
      "Est nobis veritatis et ratione esse non illo veniam ea tempora culpa est velit iste. Non iusto earum ut iste voluptates ut quas magni sit nemo consequatur quo repellat ducimus sed amet earum. Sed dicta omnis et quos quia et galisum placeat aut voluptatem molestiae ad voluptatem nobis. Ut autem vero id quisquam dolore aut asperiores dolor non dolores odio aut excepturi ipsam et rerum amet.\n",
      "\n",
      "SUPER coding club!\n"
     ]
    }
   ],
   "source": [
    "print(lorem_content)"
   ]
  },
  {
   "cell_type": "markdown",
   "id": "fd70d662-baba-4d92-8c1b-d334749829d6",
   "metadata": {},
   "source": [
    "### Context manager\n",
    "\n",
    "Uma alternativa, para utilizar a built-in open, é sua aplicação de uma gerenciador de contexto, adotando a seguinte sintaxe:"
   ]
  },
  {
   "cell_type": "code",
   "execution_count": 34,
   "id": "18aeab64-47d7-43cb-90ef-fbfd5ccd8946",
   "metadata": {},
   "outputs": [],
   "source": [
    "with open(lorem_path) as ff:\n",
    "    lorem_content4 = ff.read()"
   ]
  },
  {
   "cell_type": "code",
   "execution_count": 35,
   "id": "ff573aea-f18f-467d-998d-afe5af982940",
   "metadata": {},
   "outputs": [
    {
     "name": "stdout",
     "output_type": "stream",
     "text": [
      "Lorem ipsum dolor sit amet. Eos tempore voluptatem est atque quae et facere distinctio? Sed placeat similique qui perspiciatis quas ut recusandae ratione?\n",
      "\n",
      "Et quae quod qui error dolores vel quasi asperiores eum omnis unde ea aliquid illo. Sed voluptas corrupti est velit nulla rem consequuntur velit.\n",
      "\n",
      "Est nobis veritatis et ratione esse non illo veniam ea tempora culpa est velit iste. Non iusto earum ut iste voluptates ut quas magni sit nemo consequatur quo repellat ducimus sed amet earum. Sed dicta omnis et quos quia et galisum placeat aut voluptatem molestiae ad voluptatem nobis. Ut autem vero id quisquam dolore aut asperiores dolor non dolores odio aut excepturi ipsam et rerum amet.\n",
      "\n",
      "SUPER coding club!\n"
     ]
    }
   ],
   "source": [
    "print(lorem_content4)"
   ]
  },
  {
   "cell_type": "markdown",
   "id": "56cc01c5-d077-4651-90ff-c10060f7c027",
   "metadata": {},
   "source": [
    "Após a operação o arquivo foi automaticamente fechado, como inficado com closed na variável ff."
   ]
  },
  {
   "cell_type": "code",
   "execution_count": 36,
   "id": "041d1bdc-3b62-428d-b758-459ac854b3ea",
   "metadata": {},
   "outputs": [
    {
     "name": "stdout",
     "output_type": "stream",
     "text": [
      "True\n"
     ]
    }
   ],
   "source": [
    "print(ff.closed)"
   ]
  },
  {
   "cell_type": "markdown",
   "id": "d23fb840-83ce-44e9-9c6e-4ef1ae473d71",
   "metadata": {},
   "source": [
    "A utilização de gerenciadores de contexto acaba por ser o método mais adotado."
   ]
  },
  {
   "cell_type": "markdown",
   "id": "01c3bd2f-5563-4e14-8228-ab7d102f2123",
   "metadata": {},
   "source": [
    "### Modos de leitura"
   ]
  },
  {
   "cell_type": "markdown",
   "id": "011a8aff-7382-47de-ba7b-da8601c863c9",
   "metadata": {},
   "source": [
    "Como descrito na documentação da função [open()](https://docs.python.org/3/library/functions.html#open), estão disponíveis diferentes modos de acesso ao arquivo sendo lido. Quando não indicado, o modo adotado é o de 'leitura', não permitindo a modificação do arquivo no disco. Não exploraremos todos os modos, apenas exemplificaremos uma edição no arquivo lorem.txt."
   ]
  },
  {
   "cell_type": "code",
   "execution_count": 37,
   "id": "2082a3bf-e770-496d-bf43-ea3b36525514",
   "metadata": {},
   "outputs": [],
   "source": [
    "with open(lorem_path, mode='a') as f:\n",
    "    f.write('\\n\\nSUPER coding club!')"
   ]
  },
  {
   "cell_type": "markdown",
   "id": "089d4289-d82f-48bf-b89f-a19ba7eacf89",
   "metadata": {},
   "source": [
    "Um diagrama com os modos de edição é exibido a seguir."
   ]
  },
  {
   "cell_type": "markdown",
   "id": "e7391c2f-2d03-417e-a86c-9691aa9ead12",
   "metadata": {},
   "source": [
    "![modes](modes.png)\n",
    "\n",
    "fonte: https://stackoverflow.com/a/30566011"
   ]
  },
  {
   "cell_type": "markdown",
   "id": "4c330621-ac68-4b8b-bce4-e44f36678c96",
   "metadata": {},
   "source": [
    "A escrita de dados em arquivos existentes deve ser feita modo bastante cuidadoso, já que pode sobrescrever os dados. Recomenda-se que se faça um backup e pratique a operação em arquivos de teste antes da aplicação.\n",
    "\n",
    "Na sequência, iremos ler o arquivo editado, para exibir a modificação, onde adicionamos uma frase no final do arquivo."
   ]
  },
  {
   "cell_type": "code",
   "execution_count": 38,
   "id": "47e8917b-ce87-445c-a773-d8935bf63416",
   "metadata": {},
   "outputs": [
    {
     "name": "stdout",
     "output_type": "stream",
     "text": [
      "Lorem ipsum dolor sit amet. Eos tempore voluptatem est atque quae et facere distinctio? Sed placeat similique qui perspiciatis quas ut recusandae ratione?\n",
      "\n",
      "Et quae quod qui error dolores vel quasi asperiores eum omnis unde ea aliquid illo. Sed voluptas corrupti est velit nulla rem consequuntur velit.\n",
      "\n",
      "Est nobis veritatis et ratione esse non illo veniam ea tempora culpa est velit iste. Non iusto earum ut iste voluptates ut quas magni sit nemo consequatur quo repellat ducimus sed amet earum. Sed dicta omnis et quos quia et galisum placeat aut voluptatem molestiae ad voluptatem nobis. Ut autem vero id quisquam dolore aut asperiores dolor non dolores odio aut excepturi ipsam et rerum amet.\n",
      "\n",
      "SUPER coding club!\n",
      "\n",
      "SUPER coding club!\n"
     ]
    }
   ],
   "source": [
    "with open(lorem_path) as f:\n",
    "    lorem_content5 = f.read()\n",
    "\n",
    "print(lorem_content5)"
   ]
  },
  {
   "cell_type": "markdown",
   "id": "a5c12587-6ff9-4659-8192-16f85647ce10",
   "metadata": {},
   "source": [
    "# Escrita de dados\n",
    "\n",
    "Nessa seção criamos, salvamos alguns dados em disco, como um exemplo do output de dados.\n",
    "\n",
    "Vamos utilizar o pacote python [lorem](https://pypi.org/project/lorem/) para gerar um texto."
   ]
  },
  {
   "cell_type": "code",
   "execution_count": 39,
   "id": "907e5bf3-725e-4fd7-8867-97c5cc1d1abb",
   "metadata": {},
   "outputs": [
    {
     "name": "stdout",
     "output_type": "stream",
     "text": [
      "Ut tempora magnam est porro porro. Numquam sit adipisci non neque labore non quaerat. Aliquam dolor amet neque dolor porro. Eius quaerat dolor porro. Non numquam numquam tempora porro sit.\n",
      "\n",
      "Sed sit consectetur ut. Est velit consectetur neque sit tempora labore est. Dolorem adipisci quisquam non. Sed amet dolore dolorem numquam. Eius quisquam sit dolorem velit dolorem sit modi. Quisquam tempora est numquam dolore etincidunt quisquam.\n",
      "\n",
      "Labore magnam sed magnam aliquam quiquia non. Sed quaerat velit est tempora voluptatem amet quaerat. Eius non dolorem quiquia dolor. Quisquam labore voluptatem quisquam. Sed dolorem modi sed quisquam. Quiquia amet adipisci consectetur. Quaerat dolor non non ut non. Sit dolorem velit quaerat numquam porro etincidunt dolorem.\n"
     ]
    }
   ],
   "source": [
    "import lorem\n",
    "\n",
    "t = lorem.text()\n",
    "print(t)"
   ]
  },
  {
   "cell_type": "code",
   "execution_count": 40,
   "id": "452de0ce-ef77-45a9-a511-8150adeb891d",
   "metadata": {},
   "outputs": [],
   "source": [
    "output_path = 'lorem_output.txt'\n",
    "\n",
    "with open(output_path, 'w') as out:\n",
    "    out.write(t)"
   ]
  },
  {
   "attachments": {},
   "cell_type": "markdown",
   "id": "72678a49-17b9-4a58-91ff-b8f6e98bd8c3",
   "metadata": {},
   "source": [
    "O texto foi salvo para o arquivo lorem_output.txt\n",
    "\n",
    "Agora iremos gerar um conjunto de dados e salvá-los em disco em formato tabular. Usando o exemplo em https://www.geeksforgeeks.org/how-to-save-a-python-dictionary-to-a-csv-file/"
   ]
  },
  {
   "cell_type": "code",
   "execution_count": 41,
   "id": "d7ddc4dc-ac4b-46d3-8aec-de291a5db4f1",
   "metadata": {},
   "outputs": [],
   "source": [
    "import csv\n",
    "\n",
    "dados_output = 'dados_output.csv'\n",
    "\n",
    "field_names = ['No', 'Company', 'Car Model'] \n",
    "  \n",
    "cars = [ \n",
    "{'No': 1, 'Company': 'Ferrari', 'Car Model': '488 GTB'}, \n",
    "{'No': 2, 'Company': 'Porsche', 'Car Model': '918 Spyder'}, \n",
    "{'No': 3, 'Company': 'Bugatti', 'Car Model': 'La Voiture Noire'}, \n",
    "{'No': 4, 'Company': 'Rolls Royce', 'Car Model': 'Phantom'}, \n",
    "{'No': 5, 'Company': 'BMW', 'Car Model': 'BMW X7'}, \n",
    "] \n",
    "  \n",
    "with open(dados_output, 'w') as csvfile: \n",
    "    writer = csv.DictWriter(csvfile, fieldnames = field_names) \n",
    "    writer.writeheader() \n",
    "    writer.writerows(cars)"
   ]
  },
  {
   "cell_type": "markdown",
   "id": "e71113d5-ac83-4717-97f9-2748434322b0",
   "metadata": {},
   "source": [
    "# Usando Third Party Packages"
   ]
  },
  {
   "cell_type": "markdown",
   "id": "46094313-487d-44ea-b9bd-0e3658263c72",
   "metadata": {},
   "source": [
    "Até então utilizamos, a exceção do pacote lorem, apenas bibliotecas que fazem parte da [Python Standard Library](https://docs.python.org/3/library/index.html). No entanto, a grande comunidade que utiliza essa linguagem tem desenvolvido *Third Party Librarys* que fornecem novas funcionalidades. A diversidade de ferramentas desenvolvidas pela comunidade de usuários, é um das grandes vantagens de utilizar python. Muitas dessas ferramentas estão disponíveis no [Python Package Index (PyPI)](https://pypi.org/), [GitHub](https://github.com/), [GitLab](gitlab.com/) entre outros domínios."
   ]
  },
  {
   "cell_type": "markdown",
   "id": "2a77314c-7c1f-46e7-b534-c70c3d645b75",
   "metadata": {},
   "source": [
    "## Pandas\n",
    "\n",
    "[pandas](https://pandas.pydata.org/) é um pacote usado frequentemente para análises de dados em python. Esta aplicação provê estruturas de dados que estendem o conjunto de estruturas nativas em python. As mais usadas são o DataFrame e o Series. Nesse ambiente, são proporcionadas diversas funções para I/O de dados, sendo descritas na [documentação](https://pandas.pydata.org/docs/reference/io.html).\n",
    "\n",
    "Entre as muitas possibilidades, apresentamos apenas alguns exemplos, com a leitura de dados tabulares."
   ]
  },
  {
   "cell_type": "markdown",
   "id": "8861cf3c-3fea-4892-8e23-7749ad1677d3",
   "metadata": {},
   "source": [
    "### Input"
   ]
  },
  {
   "cell_type": "code",
   "execution_count": 42,
   "id": "8d44fd4a-4174-4b94-9c7a-9994ce47064c",
   "metadata": {},
   "outputs": [],
   "source": [
    "import pandas as pd\n",
    "\n",
    "file_path = 'EmployeeSampleData/Employee Sample Data.csv'"
   ]
  },
  {
   "cell_type": "code",
   "execution_count": 43,
   "id": "674d71be-37c0-449c-9ad7-d5d655f6e452",
   "metadata": {},
   "outputs": [],
   "source": [
    "table_employee = pd.read_csv(file_path, encoding='latin1')"
   ]
  },
  {
   "cell_type": "code",
   "execution_count": 44,
   "id": "db29de33-71ef-462f-a64f-7d672107182f",
   "metadata": {},
   "outputs": [
    {
     "data": {
      "text/html": [
       "<div>\n",
       "<style scoped>\n",
       "    .dataframe tbody tr th:only-of-type {\n",
       "        vertical-align: middle;\n",
       "    }\n",
       "\n",
       "    .dataframe tbody tr th {\n",
       "        vertical-align: top;\n",
       "    }\n",
       "\n",
       "    .dataframe thead th {\n",
       "        text-align: right;\n",
       "    }\n",
       "</style>\n",
       "<table border=\"1\" class=\"dataframe\">\n",
       "  <thead>\n",
       "    <tr style=\"text-align: right;\">\n",
       "      <th></th>\n",
       "      <th>EEID</th>\n",
       "      <th>Full Name</th>\n",
       "      <th>Job Title</th>\n",
       "      <th>Department</th>\n",
       "      <th>Business Unit</th>\n",
       "      <th>Gender</th>\n",
       "      <th>Ethnicity</th>\n",
       "      <th>Age</th>\n",
       "      <th>Hire Date</th>\n",
       "      <th>Annual Salary</th>\n",
       "      <th>Bonus %</th>\n",
       "      <th>Country</th>\n",
       "      <th>City</th>\n",
       "      <th>Exit Date</th>\n",
       "    </tr>\n",
       "  </thead>\n",
       "  <tbody>\n",
       "    <tr>\n",
       "      <th>0</th>\n",
       "      <td>E02387</td>\n",
       "      <td>Emily Davis</td>\n",
       "      <td>Sr. Manger</td>\n",
       "      <td>IT</td>\n",
       "      <td>Research &amp; Development</td>\n",
       "      <td>Female</td>\n",
       "      <td>Black</td>\n",
       "      <td>55</td>\n",
       "      <td>4/8/2016</td>\n",
       "      <td>$141,604</td>\n",
       "      <td>15%</td>\n",
       "      <td>United States</td>\n",
       "      <td>Seattle</td>\n",
       "      <td>10/16/2021</td>\n",
       "    </tr>\n",
       "    <tr>\n",
       "      <th>1</th>\n",
       "      <td>E04105</td>\n",
       "      <td>Theodore Dinh</td>\n",
       "      <td>Technical Architect</td>\n",
       "      <td>IT</td>\n",
       "      <td>Manufacturing</td>\n",
       "      <td>Male</td>\n",
       "      <td>Asian</td>\n",
       "      <td>59</td>\n",
       "      <td>11/29/1997</td>\n",
       "      <td>$99,975</td>\n",
       "      <td>0%</td>\n",
       "      <td>China</td>\n",
       "      <td>Chongqing</td>\n",
       "      <td>NaN</td>\n",
       "    </tr>\n",
       "    <tr>\n",
       "      <th>2</th>\n",
       "      <td>E02572</td>\n",
       "      <td>Luna Sanders</td>\n",
       "      <td>Director</td>\n",
       "      <td>Finance</td>\n",
       "      <td>Speciality Products</td>\n",
       "      <td>Female</td>\n",
       "      <td>Caucasian</td>\n",
       "      <td>50</td>\n",
       "      <td>10/26/2006</td>\n",
       "      <td>$163,099</td>\n",
       "      <td>20%</td>\n",
       "      <td>United States</td>\n",
       "      <td>Chicago</td>\n",
       "      <td>NaN</td>\n",
       "    </tr>\n",
       "    <tr>\n",
       "      <th>3</th>\n",
       "      <td>E02832</td>\n",
       "      <td>Penelope Jordan</td>\n",
       "      <td>Computer Systems Manager</td>\n",
       "      <td>IT</td>\n",
       "      <td>Manufacturing</td>\n",
       "      <td>Female</td>\n",
       "      <td>Caucasian</td>\n",
       "      <td>26</td>\n",
       "      <td>9/27/2019</td>\n",
       "      <td>$84,913</td>\n",
       "      <td>7%</td>\n",
       "      <td>United States</td>\n",
       "      <td>Chicago</td>\n",
       "      <td>NaN</td>\n",
       "    </tr>\n",
       "    <tr>\n",
       "      <th>4</th>\n",
       "      <td>E01639</td>\n",
       "      <td>Austin Vo</td>\n",
       "      <td>Sr. Analyst</td>\n",
       "      <td>Finance</td>\n",
       "      <td>Manufacturing</td>\n",
       "      <td>Male</td>\n",
       "      <td>Asian</td>\n",
       "      <td>55</td>\n",
       "      <td>11/20/1995</td>\n",
       "      <td>$95,409</td>\n",
       "      <td>0%</td>\n",
       "      <td>United States</td>\n",
       "      <td>Phoenix</td>\n",
       "      <td>NaN</td>\n",
       "    </tr>\n",
       "    <tr>\n",
       "      <th>...</th>\n",
       "      <td>...</td>\n",
       "      <td>...</td>\n",
       "      <td>...</td>\n",
       "      <td>...</td>\n",
       "      <td>...</td>\n",
       "      <td>...</td>\n",
       "      <td>...</td>\n",
       "      <td>...</td>\n",
       "      <td>...</td>\n",
       "      <td>...</td>\n",
       "      <td>...</td>\n",
       "      <td>...</td>\n",
       "      <td>...</td>\n",
       "      <td>...</td>\n",
       "    </tr>\n",
       "    <tr>\n",
       "      <th>995</th>\n",
       "      <td>E03094</td>\n",
       "      <td>Wesley Young</td>\n",
       "      <td>Sr. Analyst</td>\n",
       "      <td>Marketing</td>\n",
       "      <td>Speciality Products</td>\n",
       "      <td>Male</td>\n",
       "      <td>Caucasian</td>\n",
       "      <td>33</td>\n",
       "      <td>9/18/2016</td>\n",
       "      <td>$98,427</td>\n",
       "      <td>0%</td>\n",
       "      <td>United States</td>\n",
       "      <td>Columbus</td>\n",
       "      <td>NaN</td>\n",
       "    </tr>\n",
       "    <tr>\n",
       "      <th>996</th>\n",
       "      <td>E01909</td>\n",
       "      <td>Lillian Khan</td>\n",
       "      <td>Analyst</td>\n",
       "      <td>Finance</td>\n",
       "      <td>Speciality Products</td>\n",
       "      <td>Female</td>\n",
       "      <td>Asian</td>\n",
       "      <td>44</td>\n",
       "      <td>5/31/2010</td>\n",
       "      <td>$47,387</td>\n",
       "      <td>0%</td>\n",
       "      <td>China</td>\n",
       "      <td>Chengdu</td>\n",
       "      <td>1/8/2018</td>\n",
       "    </tr>\n",
       "    <tr>\n",
       "      <th>997</th>\n",
       "      <td>E04398</td>\n",
       "      <td>Oliver Yang</td>\n",
       "      <td>Director</td>\n",
       "      <td>Marketing</td>\n",
       "      <td>Speciality Products</td>\n",
       "      <td>Male</td>\n",
       "      <td>Asian</td>\n",
       "      <td>31</td>\n",
       "      <td>6/10/2019</td>\n",
       "      <td>$176,710</td>\n",
       "      <td>15%</td>\n",
       "      <td>United States</td>\n",
       "      <td>Miami</td>\n",
       "      <td>NaN</td>\n",
       "    </tr>\n",
       "    <tr>\n",
       "      <th>998</th>\n",
       "      <td>E02521</td>\n",
       "      <td>Lily Nguyen</td>\n",
       "      <td>Sr. Analyst</td>\n",
       "      <td>Finance</td>\n",
       "      <td>Speciality Products</td>\n",
       "      <td>Female</td>\n",
       "      <td>Asian</td>\n",
       "      <td>33</td>\n",
       "      <td>1/28/2012</td>\n",
       "      <td>$95,960</td>\n",
       "      <td>0%</td>\n",
       "      <td>China</td>\n",
       "      <td>Chengdu</td>\n",
       "      <td>NaN</td>\n",
       "    </tr>\n",
       "    <tr>\n",
       "      <th>999</th>\n",
       "      <td>E03545</td>\n",
       "      <td>Sofia Cheng</td>\n",
       "      <td>Vice President</td>\n",
       "      <td>Accounting</td>\n",
       "      <td>Corporate</td>\n",
       "      <td>Female</td>\n",
       "      <td>Asian</td>\n",
       "      <td>63</td>\n",
       "      <td>7/26/2020</td>\n",
       "      <td>$216,195</td>\n",
       "      <td>31%</td>\n",
       "      <td>United States</td>\n",
       "      <td>Miami</td>\n",
       "      <td>NaN</td>\n",
       "    </tr>\n",
       "  </tbody>\n",
       "</table>\n",
       "<p>1000 rows × 14 columns</p>\n",
       "</div>"
      ],
      "text/plain": [
       "       EEID        Full Name                 Job Title  Department  \\\n",
       "0    E02387      Emily Davis                Sr. Manger          IT   \n",
       "1    E04105    Theodore Dinh       Technical Architect          IT   \n",
       "2    E02572     Luna Sanders                  Director     Finance   \n",
       "3    E02832  Penelope Jordan  Computer Systems Manager          IT   \n",
       "4    E01639        Austin Vo               Sr. Analyst     Finance   \n",
       "..      ...              ...                       ...         ...   \n",
       "995  E03094     Wesley Young               Sr. Analyst   Marketing   \n",
       "996  E01909     Lillian Khan                   Analyst     Finance   \n",
       "997  E04398      Oliver Yang                  Director   Marketing   \n",
       "998  E02521      Lily Nguyen               Sr. Analyst     Finance   \n",
       "999  E03545      Sofia Cheng            Vice President  Accounting   \n",
       "\n",
       "              Business Unit  Gender  Ethnicity  Age   Hire Date Annual Salary  \\\n",
       "0    Research & Development  Female      Black   55    4/8/2016     $141,604    \n",
       "1             Manufacturing    Male      Asian   59  11/29/1997      $99,975    \n",
       "2       Speciality Products  Female  Caucasian   50  10/26/2006     $163,099    \n",
       "3             Manufacturing  Female  Caucasian   26   9/27/2019      $84,913    \n",
       "4             Manufacturing    Male      Asian   55  11/20/1995      $95,409    \n",
       "..                      ...     ...        ...  ...         ...           ...   \n",
       "995     Speciality Products    Male  Caucasian   33   9/18/2016      $98,427    \n",
       "996     Speciality Products  Female      Asian   44   5/31/2010      $47,387    \n",
       "997     Speciality Products    Male      Asian   31   6/10/2019     $176,710    \n",
       "998     Speciality Products  Female      Asian   33   1/28/2012      $95,960    \n",
       "999               Corporate  Female      Asian   63   7/26/2020     $216,195    \n",
       "\n",
       "    Bonus %        Country       City   Exit Date  \n",
       "0      15%   United States    Seattle  10/16/2021  \n",
       "1       0%           China  Chongqing         NaN  \n",
       "2      20%   United States    Chicago         NaN  \n",
       "3       7%   United States    Chicago         NaN  \n",
       "4       0%   United States    Phoenix         NaN  \n",
       "..      ...            ...        ...         ...  \n",
       "995     0%   United States   Columbus         NaN  \n",
       "996     0%           China    Chengdu    1/8/2018  \n",
       "997    15%   United States      Miami         NaN  \n",
       "998     0%           China    Chengdu         NaN  \n",
       "999    31%   United States      Miami         NaN  \n",
       "\n",
       "[1000 rows x 14 columns]"
      ]
     },
     "execution_count": 44,
     "metadata": {},
     "output_type": "execute_result"
    }
   ],
   "source": [
    "table_employee = pd.read_table(file_path, encoding='latin1', sep=',')\n",
    "table_employee"
   ]
  },
  {
   "cell_type": "markdown",
   "id": "8a9c1a29-f480-4f45-88aa-8ce5513650d2",
   "metadata": {},
   "source": [
    "### Use example"
   ]
  },
  {
   "cell_type": "code",
   "execution_count": 45,
   "id": "c3224ce6-0b77-49d1-b3d1-7fad2d44b4e0",
   "metadata": {},
   "outputs": [
    {
     "data": {
      "text/plain": [
       "Text(0.5, 0, 'Idade')"
      ]
     },
     "execution_count": 45,
     "metadata": {},
     "output_type": "execute_result"
    },
    {
     "data": {
      "application/vnd.jupyter.widget-view+json": {
       "model_id": "db7bd05dce30442bb1200d01adf52cb2",
       "version_major": 2,
       "version_minor": 0
      },
      "image/png": "[encoded data removed]",
      "text/html": [
       "\n",
       "            <div style=\"display: inline-block;\">\n",
       "                <div class=\"jupyter-widgets widget-label\" style=\"text-align: center;\">\n",
       "                    Figure\n",
       "                </div>\n",
       "                <img src='data:image/png;base64,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' width=640.0/>\n",
       "            </div>\n",
       "        "
      ],
      "text/plain": [
       "Canvas(toolbar=Toolbar(toolitems=[('Home', 'Reset original view', 'home', 'home'), ('Back', 'Back to previous …"
      ]
     },
     "metadata": {},
     "output_type": "display_data"
    }
   ],
   "source": [
    "import matplotlib.pyplot as plt\n",
    "\n",
    "%matplotlib widget\n",
    "\n",
    "fig, ax = plt.subplots()\n",
    "ax.hist(table_employee.Age, bins=20)\n",
    "ax.set_ylabel('Quantidade')\n",
    "ax.set_xlabel('Idade')"
   ]
  },
  {
   "cell_type": "code",
   "execution_count": 46,
   "id": "b29e67a6-6212-44fd-a056-44b3ca028003",
   "metadata": {},
   "outputs": [],
   "source": [
    "annual_salary = table_employee['Annual Salary']\n",
    "annual_salary = annual_salary.replace('\\$', '', regex=True)\n",
    "annual_salary = annual_salary.replace(',','', regex=True).astype(float)\n",
    "\n",
    "table_employee['Annual Salary'] = annual_salary"
   ]
  },
  {
   "cell_type": "code",
   "execution_count": 47,
   "id": "335f55bc-216b-4bd5-b7cb-ef28394dd9a3",
   "metadata": {},
   "outputs": [
    {
     "data": {
      "text/plain": [
       "Gender\n",
       "Female    112314.179537\n",
       "Male      114188.008299\n",
       "Name: Annual Salary, dtype: float64"
      ]
     },
     "execution_count": 47,
     "metadata": {},
     "output_type": "execute_result"
    }
   ],
   "source": [
    "df = table_employee.groupby(['Gender'])\n",
    "df['Annual Salary'].mean()"
   ]
  },
  {
   "cell_type": "code",
   "execution_count": 48,
   "id": "e104c814-7bb2-4616-91e4-bd62add38a2d",
   "metadata": {},
   "outputs": [
    {
     "data": {
      "text/plain": [
       "Country        City            Gender\n",
       "Brazil         Manaus          Female    112502.32\n",
       "                               Male      118869.47\n",
       "               Rio de Janerio  Female    114122.33\n",
       "                               Male      102937.91\n",
       "               Sao Paulo       Female    108332.86\n",
       "                               Male      119750.79\n",
       "China          Beijing         Female    110185.96\n",
       "                               Male      107729.15\n",
       "               Chengdu         Female    110670.60\n",
       "                               Male      110050.19\n",
       "               Chongqing       Female    116659.31\n",
       "                               Male      114247.70\n",
       "               Shanghai        Female    117940.21\n",
       "                               Male      121713.57\n",
       "United States  Austin          Female    121902.70\n",
       "                               Male      108918.44\n",
       "               Chicago         Female    105569.94\n",
       "                               Male      121033.92\n",
       "               Columbus        Female    115433.85\n",
       "                               Male      116748.02\n",
       "               Miami           Female    107898.81\n",
       "                               Male      117136.80\n",
       "               Phoenix         Female    106891.60\n",
       "                               Male      108108.92\n",
       "               Seattle         Female    114315.87\n",
       "                               Male      114756.43\n",
       "Name: Annual Salary, dtype: float64"
      ]
     },
     "execution_count": 48,
     "metadata": {},
     "output_type": "execute_result"
    }
   ],
   "source": [
    "df = table_employee.groupby(['Country', 'City', 'Gender'])\n",
    "df['Annual Salary'].mean()\n",
    "df['Annual Salary'].mean().round(2)"
   ]
  },
  {
   "cell_type": "code",
   "execution_count": 49,
   "id": "001dab9e-b4c5-4740-ae1e-953971e3ce85",
   "metadata": {},
   "outputs": [],
   "source": [
    "df_result = df['Annual Salary'].mean().round(2).sort_values()"
   ]
  },
  {
   "cell_type": "markdown",
   "id": "616d6e05-51b3-46be-80e2-bb5bc170c416",
   "metadata": {},
   "source": [
    "### Output"
   ]
  },
  {
   "cell_type": "code",
   "execution_count": 50,
   "id": "abcca3cf-c457-4c18-9ffb-0e087411d5b4",
   "metadata": {},
   "outputs": [],
   "source": [
    "df_result.to_csv('employee_product.txt', sep='\\t')"
   ]
  },
  {
   "cell_type": "markdown",
   "id": "0820d2b6-0921-4cfb-80b3-333a311173cd",
   "metadata": {},
   "source": [
    "## NumPy\n",
    "\n",
    "[NumPy](https://numpy.org/) se qualifica, talvez, como a mais importante biblioteca para computação científica em python. Também oferecendo muitos métodos para I/O, descritos na seção de [Input and output](https://numpy.org/doc/stable/reference/routines.io.html). A estrutura de dados mais usada, quando se trata do NumPy, é o array."
   ]
  },
  {
   "cell_type": "markdown",
   "id": "2c79bfdc-2c55-457f-ade2-0c571e20c170",
   "metadata": {},
   "source": [
    "### Output de dados para *plain text*\n",
    "\n",
    "Exemplificamos o processo de salvar uma pequena estrutura de dados em *plain text*. Plain text, ou texto simples, é um modo de armazenar estruturas de dados. Entre as vantagens desse formato está a legibilidade para humanos, já que os dados são armazenados sem a codificação dos arquivos binários. \n",
    "\n",
    "Sendo assim, são boas opções, pois não dependem de um algorítmico específico para seu processamento. Estruturas de dados em formatos específicos, podem ficar restritas a alguns softwares, uma vez que não se sabe qual software deve ser usado ou em caso de sua indisponibilidade, os dados se tornam inúteis já que não podem ser decodificados. Os arquivos de texto simples podem ser processados mais facilmente.\n",
    "\n",
    "A desvantagem se dá devido quando se considera o tamanho dos arquivos, arquivos de texto simples são pouco otimizados em termos de compressão. Em certos projetos, isso deve ser considerado antes de ser optar por plain text.\n",
    "\n",
    "Aqui geramos um pequeno array, e em seguida o salvamos em texto simples, usando o método, np.savetxt"
   ]
  },
  {
   "cell_type": "code",
   "execution_count": 51,
   "id": "a0d3cf2e-3b94-4210-bbed-529db0209f8d",
   "metadata": {},
   "outputs": [
    {
     "name": "stdout",
     "output_type": "stream",
     "text": [
      "Size: 1.88 KiB (kibibyte)\n"
     ]
    }
   ],
   "source": [
    "import sys\n",
    "import numpy as np\n",
    "\n",
    "data = np.random.rand(15, 15)\n",
    "\n",
    "size = sys.getsizeof(data) / (2**10)**1\n",
    "print(f'Size: {round(size, 2)} KiB (kibibyte)')\n",
    "\n",
    "np.savetxt('data_np.dat', data)"
   ]
  },
  {
   "cell_type": "markdown",
   "id": "9c1f288b-03bf-4e74-b672-b324d0c4169e",
   "metadata": {},
   "source": [
    "### Data input"
   ]
  },
  {
   "cell_type": "code",
   "execution_count": 52,
   "id": "f60dfda6-7b1a-4981-88ca-c652efe9bd7d",
   "metadata": {},
   "outputs": [
    {
     "name": "stdout",
     "output_type": "stream",
     "text": [
      "[(b'Brazil', b'Rio de Janerio', b'Male', 102937.91)\n",
      " (b'United States', b'Chicago', b'Female', 105569.94)\n",
      " (b'United States', b'Phoenix', b'Female', 106891.6 )\n",
      " (b'China', b'Beijing', b'Male', 107729.15)\n",
      " (b'United States', b'Miami', b'Female', 107898.81)\n",
      " (b'United States', b'Phoenix', b'Male', 108108.92)\n",
      " (b'Brazil', b'Sao Paulo', b'Female', 108332.86)\n",
      " (b'United States', b'Austin', b'Male', 108918.44)\n",
      " (b'China', b'Chengdu', b'Male', 110050.19)\n",
      " (b'China', b'Beijing', b'Female', 110185.96)\n",
      " (b'China', b'Chengdu', b'Female', 110670.6 )\n",
      " (b'Brazil', b'Manaus', b'Female', 112502.32)\n",
      " (b'Brazil', b'Rio de Janerio', b'Female', 114122.33)\n",
      " (b'China', b'Chongqing', b'Male', 114247.7 )\n",
      " (b'United States', b'Seattle', b'Female', 114315.87)\n",
      " (b'United States', b'Seattle', b'Male', 114756.43)\n",
      " (b'United States', b'Columbus', b'Female', 115433.85)\n",
      " (b'China', b'Chongqing', b'Female', 116659.31)\n",
      " (b'United States', b'Columbus', b'Male', 116748.02)\n",
      " (b'United States', b'Miami', b'Male', 117136.8 )\n",
      " (b'China', b'Shanghai', b'Female', 117940.21)\n",
      " (b'Brazil', b'Manaus', b'Male', 118869.47)\n",
      " (b'Brazil', b'Sao Paulo', b'Male', 119750.79)\n",
      " (b'United States', b'Chicago', b'Male', 121033.92)\n",
      " (b'China', b'Shanghai', b'Male', 121713.57)\n",
      " (b'United States', b'Austin', b'Female', 121902.7 )]\n"
     ]
    }
   ],
   "source": [
    "with open('employee_product.txt') as f:\n",
    "    data = np.genfromtxt(f, delimiter='\\t', names=True, dtype='S20,S20,S10,f4')\n",
    "    print(data)"
   ]
  },
  {
   "cell_type": "code",
   "execution_count": 53,
   "id": "bf5b334a-08b1-42e0-a649-fdfffc2f37e3",
   "metadata": {},
   "outputs": [
    {
     "name": "stdout",
     "output_type": "stream",
     "text": [
      "('Country', 'City', 'Gender', 'Annual_Salary')\n"
     ]
    }
   ],
   "source": [
    "print(data.dtype.names)"
   ]
  },
  {
   "cell_type": "markdown",
   "id": "f95f5ef9-6391-4572-a0e9-a6964fb718ac",
   "metadata": {},
   "source": [
    "## Astropy\n",
    "\n",
    "[Astropy](https://www.astropy.org/) é um ambiente voltado a astronomia, concentrando diversos pacotes com aplicações para cosmologia, simulações, fotometria, espectroscopia, entre outros. Com relação ao I/O, oferece métodos para trabalhar com os formatos de dados mais usuais no campo de estudo."
   ]
  },
  {
   "cell_type": "markdown",
   "id": "a5838515-a1a2-4ac9-ae21-31d633d47f28",
   "metadata": {},
   "source": [
    "### Input\n",
    "\n",
    "Nesse exemplo, iniciamos fazendo o download de um espectro do SDSS, utilizando o python para executar o comando wget no terminal. Caso esteja utilizando sistemas operacionais sem esse comando, o arquivo pode ser baixado na página https://dr12.sdss.org/spectrumDetail?plateid=2603&mjd=54479&fiber=598"
   ]
  },
  {
   "cell_type": "code",
   "execution_count": 54,
   "id": "5a23bae6-e75d-4616-b29d-fb57d17513a3",
   "metadata": {},
   "outputs": [
    {
     "name": "stderr",
     "output_type": "stream",
     "text": [
      "--2023-10-25 13:17:59--  https://dr12.sdss.org/sas/dr12/sdss/spectro/redux/26/spectra/2603/spec-2603-54479-0598.fits\n",
      "Resolving dr12.sdss.org (dr12.sdss.org)... 155.101.19.32\n",
      "Connecting to dr12.sdss.org (dr12.sdss.org)|155.101.19.32|:443... connected.\n",
      "HTTP request sent, awaiting response... 200 OK\n",
      "Length: 751680 (734K) [application/octet-stream]\n",
      "Saving to: ‘spec-2603-54479-0598.fits.1’\n",
      "\n",
      "     0K .......... .......... .......... .......... ..........  6%  122K 6s\n",
      "    50K .......... .......... .......... .......... .......... 13%  122K 5s\n",
      "   100K .......... .......... .......... .......... .......... 20%  122K 5s\n",
      "   150K .......... .......... .......... .......... .......... 27%  241K 4s\n",
      "   200K .......... .......... .......... .......... .......... 34%  244K 3s\n",
      "   250K .......... .......... .......... .......... .......... 40%  228K 3s\n",
      "   300K .......... .......... .......... .......... .......... 47%  249K 2s\n",
      "   350K .......... .......... .......... .......... .......... 54%  256K 2s\n",
      "   400K .......... .......... .......... .......... .......... 61%  248K 2s\n",
      "   450K .......... .......... .......... .......... .......... 68% 23,4M 1s\n",
      "   500K .......... .......... .......... .......... .......... 74%  244K 1s\n",
      "   550K .......... .......... .......... .......... .......... 81%  247K 1s\n",
      "   600K .......... .......... .......... .......... .......... 88% 22,3M 0s\n",
      "   650K .......... .......... .......... .......... .......... 95%  246K 0s\n",
      "   700K .......... .......... .......... ....                 100% 35,7M=3,1s\n",
      "\n",
      "2023-10-25 13:18:04 (239 KB/s) - ‘spec-2603-54479-0598.fits.1’ saved [751680/751680]\n",
      "\n"
     ]
    },
    {
     "data": {
      "text/plain": [
       "0"
      ]
     },
     "execution_count": 54,
     "metadata": {},
     "output_type": "execute_result"
    }
   ],
   "source": [
    "import os\n",
    "\n",
    "sdss_spec_url = 'https://dr12.sdss.org/sas/dr12/sdss/spectro/redux/26/spectra/2603/spec-2603-54479-0598.fits'\n",
    "os.system(f'wget {sdss_spec_url}')"
   ]
  },
  {
   "cell_type": "markdown",
   "id": "8c9d248b-b9bf-459a-b7e7-6cee590fa36b",
   "metadata": {},
   "source": [
    "Do módulo de io do atropy importamos o médulo fits, esse último possui um método open() para ler os arquivos."
   ]
  },
  {
   "cell_type": "code",
   "execution_count": 55,
   "id": "e145abb7-d988-404c-a42b-ae2b66de36b8",
   "metadata": {},
   "outputs": [],
   "source": [
    "from astropy.io import fits\n",
    "\n",
    "sdss_spec_path = 'spec-2603-54479-0598.fits'\n",
    "\n",
    "hdul = fits.open(sdss_spec_path)"
   ]
  },
  {
   "cell_type": "code",
   "execution_count": 56,
   "id": "fd79a6b8-b88d-4260-a9f1-f06b77da4b9a",
   "metadata": {},
   "outputs": [
    {
     "name": "stdout",
     "output_type": "stream",
     "text": [
      "Filename: spec-2603-54479-0598.fits\n",
      "No.    Name      Ver    Type      Cards   Dimensions   Format\n",
      "  0  PRIMARY       1 PrimaryHDU     149   ()      \n",
      "  1  COADD         1 BinTableHDU     26   3822R x 8C   [E, E, E, J, J, E, E, E]   \n",
      "  2  SPECOBJ       1 BinTableHDU    262   1R x 126C   [6A, 4A, 16A, 23A, 16A, 8A, E, E, E, J, E, E, J, B, B, B, B, B, B, J, 22A, 19A, 19A, 22A, 19A, I, 3A, 3A, 1A, J, D, D, D, E, E, 19A, 8A, J, J, J, J, K, K, J, J, J, J, J, J, K, K, K, K, I, J, J, J, J, 5J, D, D, 6A, 21A, E, E, E, J, E, 24A, 10J, J, 10E, E, E, E, E, E, E, J, E, E, E, J, E, 5E, E, 10E, 10E, 10E, 5E, 5E, 5E, 5E, 5E, J, J, E, E, E, E, E, E, 25A, 21A, 10A, E, E, E, E, E, E, E, E, J, E, E, J, 1A, 1A, E, E, J, J, 1A, 5E, 5E]   \n",
      "  3  SPZLINE       1 BinTableHDU     48   29R x 19C   [J, J, J, 13A, D, E, E, E, E, E, E, E, E, E, E, J, J, E, E]   \n",
      "  4  B2-00048819-00048817-00048818    1 BinTableHDU    162   2047R x 7C   [E, E, E, J, E, E, E]   \n",
      "  5  B2-00048820-00048817-00048818    1 BinTableHDU    162   2047R x 7C   [E, E, E, J, E, E, E]   \n",
      "  6  B2-00048925-00048923-00048924    1 BinTableHDU    162   2047R x 7C   [E, E, E, J, E, E, E]   \n",
      "  7  B2-00048926-00048923-00048924    1 BinTableHDU    162   2047R x 7C   [E, E, E, J, E, E, E]   \n",
      "  8  R2-00048819-00048817-00048818    1 BinTableHDU    162   2043R x 7C   [E, E, E, J, E, E, E]   \n",
      "  9  R2-00048820-00048817-00048818    1 BinTableHDU    162   2043R x 7C   [E, E, E, J, E, E, E]   \n",
      " 10  R2-00048925-00048923-00048924    1 BinTableHDU    162   2040R x 7C   [E, E, E, J, E, E, E]   \n",
      " 11  R2-00048926-00048923-00048924    1 BinTableHDU    162   2041R x 7C   [E, E, E, J, E, E, E]   \n"
     ]
    }
   ],
   "source": [
    "hdul.info()"
   ]
  },
  {
   "cell_type": "markdown",
   "id": "bd7679b6-d855-4be2-b7cf-648a92e131a5",
   "metadata": {},
   "source": [
    "Do mesmo modo que na built-in open() da biblioteca padrão, os arquivos, após utilizados, devem ser fechados"
   ]
  },
  {
   "cell_type": "code",
   "execution_count": 57,
   "id": "0212093b-88e4-4635-877e-7d539e09f567",
   "metadata": {},
   "outputs": [],
   "source": [
    "hdul.close()"
   ]
  },
  {
   "cell_type": "markdown",
   "id": "92f341a1-ba5e-442b-865d-745dfd46debc",
   "metadata": {},
   "source": [
    "Ou, o context manager pode ser utilizado. Onde os dados necessários são lidos durante sua execução."
   ]
  },
  {
   "cell_type": "code",
   "execution_count": 58,
   "id": "47f99e1f-e414-4a8f-8de2-88e5aaceb72b",
   "metadata": {},
   "outputs": [],
   "source": [
    "with fits.open(sdss_spec_path) as hdul:\n",
    "    table = hdul['COADD'].data"
   ]
  },
  {
   "cell_type": "markdown",
   "id": "31288dea-af7f-4fac-a72b-1556f58104a2",
   "metadata": {},
   "source": [
    "### Plot\n",
    "\n",
    "Como exemplo, realizamos um plot simples, com os dados do espectro que foi baixado. Conforme o survey ou instrumentos utilizado, a estrutura dos arquivos fits pode variar. O método info() utilizado anteriormente pode ser útil para explorar a estrutura do arquivo fits."
   ]
  },
  {
   "cell_type": "code",
   "execution_count": 59,
   "id": "06424b52-4634-4932-a582-3a056bb6991a",
   "metadata": {},
   "outputs": [
    {
     "data": {
      "text/plain": [
       "Text(0, 0.5, 'Flux [a.u]')"
      ]
     },
     "execution_count": 59,
     "metadata": {},
     "output_type": "execute_result"
    },
    {
     "data": {
      "application/vnd.jupyter.widget-view+json": {
       "model_id": "126415c750304a91bffda0a7fc5502ab",
       "version_major": 2,
       "version_minor": 0
      },
      "image/png": "[encoded data removed]",
      "text/html": [
       "\n",
       "            <div style=\"display: inline-block;\">\n",
       "                <div class=\"jupyter-widgets widget-label\" style=\"text-align: center;\">\n",
       "                    Figure\n",
       "                </div>\n",
       "                <img src='data:image/png;base64,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' width=1000.0/>\n",
       "            </div>\n",
       "        "
      ],
      "text/plain": [
       "Canvas(toolbar=Toolbar(toolitems=[('Home', 'Reset original view', 'home', 'home'), ('Back', 'Back to previous …"
      ]
     },
     "metadata": {},
     "output_type": "display_data"
    }
   ],
   "source": [
    "flux = table['flux']\n",
    "wave = 10**table['loglam']\n",
    "\n",
    "fig, ax = plt.subplots(figsize=(10,3))\n",
    "ax.plot(wave, flux)\n",
    "ax.set_xlabel('Wavelength [A]')\n",
    "ax.set_ylabel('Flux [a.u]')"
   ]
  },
  {
   "cell_type": "markdown",
   "id": "36ec2623-ba5a-421e-b543-0bccac4cf744",
   "metadata": {},
   "source": [
    "# Trabalhando com Big Data\n",
    "\n",
    "Os códigos utilizados anteriormente, podem ser aplicados na parte das situações. No entanto, determinar se um código é adequado ou não, depende de outros fatores. Temos de considerar o volume de dados a ser processado, o tempo de execução, os recursos computacionais disponíveis, entre outros.\n",
    "\n",
    "Quanto os dados a serem processador se tornam muito volumosos, por exemplo, as máquinas podem encontrar limitações como as de memória RAM. Nesse caso, podemos adotar certas estratégias para o processamento."
   ]
  },
  {
   "cell_type": "markdown",
   "id": "7893c8a6-0050-49a2-8d40-2128964b3dba",
   "metadata": {},
   "source": [
    "## Processando grandes datasets por partes"
   ]
  },
  {
   "cell_type": "markdown",
   "id": "120fb151-bd39-42f0-a2e7-cd0c93bcbaf9",
   "metadata": {},
   "source": [
    "## Memory mapping com NumPy\n",
    "\n",
    "Vamos criar mais um array com, dessa vez produzindo um conjunto de dados um pouco maior, na casa de ~1 GB "
   ]
  },
  {
   "cell_type": "code",
   "execution_count": 86,
   "id": "480c1adc-97c0-455e-8666-e91f5892b4e7",
   "metadata": {},
   "outputs": [
    {
     "name": "stdout",
     "output_type": "stream",
     "text": [
      "Size: 1.04 GiB (Gibibyte)\n"
     ]
    }
   ],
   "source": [
    "# ~1 GB\n",
    "data = np.random.rand(1 * 10_000, 14_000)\n",
    "\n",
    "# ~2 GB\n",
    "# data = np.random.rand(2 * 10_000, 14_000)\n",
    "\n",
    "# ~3 GB\n",
    "# data = np.random.rand(3 * 10_000, 14_000)\n",
    "\n",
    "size = sys.getsizeof(data) / (2**10)**3\n",
    "print(f'Size: {round(size, 2)} GiB (Gibibyte)')"
   ]
  },
  {
   "cell_type": "markdown",
   "id": "94f72151-4f12-4223-8878-d4562ec8d899",
   "metadata": {},
   "source": [
    "Vamos agora converter esses em um memory-mapped file, usando um arquivo temporário no disco:"
   ]
  },
  {
   "cell_type": "code",
   "execution_count": 87,
   "id": "2ddbed56-aa79-4c39-bd42-255fd1b3a58d",
   "metadata": {},
   "outputs": [],
   "source": [
    "import tempfile\n",
    "\n",
    "data_shape = data.shape\n",
    "\n",
    "with tempfile.TemporaryFile() as f:\n",
    "    mmap_data = np.memmap(\n",
    "    f,\n",
    "    dtype='float32', mode='w+',\n",
    "    shape=data_shape)"
   ]
  },
  {
   "cell_type": "markdown",
   "id": "a098e13d-e742-47d9-924e-6420fe35abf6",
   "metadata": {},
   "source": [
    "Em seguida, copiamos o conteúdo do array, para a nova estrutura de dados:"
   ]
  },
  {
   "cell_type": "code",
   "execution_count": null,
   "id": "f49132cd-7076-43bc-b896-fc57a8d5ce9f",
   "metadata": {},
   "outputs": [],
   "source": [
    "mmap_data[:] = data[:]\n",
    "mmap_data.flush()"
   ]
  },
  {
   "cell_type": "code",
   "execution_count": null,
   "id": "7cdc02d4-f630-4a1a-8188-22a5a70a0260",
   "metadata": {},
   "outputs": [],
   "source": [
    "del data, mmap_flux_grid"
   ]
  },
  {
   "cell_type": "code",
   "execution_count": 81,
   "id": "43ab765e-9c1e-404a-a802-0362a120018a",
   "metadata": {},
   "outputs": [
    {
     "data": {
      "text/plain": [
       "0.49998286"
      ]
     },
     "execution_count": 81,
     "metadata": {},
     "output_type": "execute_result"
    }
   ],
   "source": [
    "mmap_data.mean()"
   ]
  },
  {
   "cell_type": "markdown",
   "id": "2da4d153-2bf7-4056-8cbb-fbfe9450e989",
   "metadata": {},
   "source": [
    "# Outras bibliotecas\n",
    "\n",
    "- Xarray\n",
    "- Dask\n",
    "- Ray\n",
    "- Scipp\n",
    "- Pangeo"
   ]
  },
  {
   "cell_type": "markdown",
   "id": "588f6df2-6976-4063-90d5-2bccfdea67c0",
   "metadata": {},
   "source": []
  },
  {
   "cell_type": "markdown",
   "id": "580d7d8e-4028-4cc4-828b-436359e31179",
   "metadata": {},
   "source": [
    "# Referências e material extra:\n",
    "- Tutoriais de python: https://www.youtube.com/@coreyms/playlists\n",
    "- python built-in: https://docs.python.org/3/library/functions.html\n",
    "- open built-in: https://docs.python.org/3/library/functions.html#open\n",
    "- ofile object: https://docs.python.org/3/glossary.html#term-file-object\n",
    "- context manager: https://www.geeksforgeeks.org/context-manager-in-python/\n",
    "- modos do open(): https://stackoverflow.com/questions/1466000/difference-between-modes-a-a-w-w-and-r-in-built-in-open-function\n",
    "- lorem: https://pypi.org/project/lorem/\n",
    "- exemplo de csv: https://www.geeksforgeeks.org/how-to-save-a-python-dictionary-to-a-csv-file/\n",
    "- pandas: https://pandas.pydata.org/\n",
    "- NumPy: https://numpy.org/\n",
    "- Astropy: https://www.astropy.org/\n",
    "- Xarray: https://docs.xarray.dev/en/latest/index.html\n",
    "- Scipp: https://scipp.github.io/\n",
    "- Pangeo: https://pangeo.io/index.html\n",
    "- Dask: https://www.dask.org/\n",
    "- Ray: https://www.ray.io/"
   ]
  },
  {
   "cell_type": "code",
   "execution_count": null,
   "id": "13be0997-ce84-44f5-aaa8-209f593b2db3",
   "metadata": {},
   "outputs": [],
   "source": []
  },
  {
   "cell_type": "code",
   "execution_count": null,
   "id": "c6109cb1-5dd9-40e2-b7b8-a7d97794e0ac",
   "metadata": {},
   "outputs": [],
   "source": []
  }
 ],
 "metadata": {
  "kernelspec": {
   "display_name": "Python 3 (ipykernel)",
   "language": "python",
   "name": "python3"
  },
  "language_info": {
   "codemirror_mode": {
    "name": "ipython",
    "version": 3
   },
   "file_extension": ".py",
   "mimetype": "text/x-python",
   "name": "python",
   "nbconvert_exporter": "python",
   "pygments_lexer": "ipython3",
   "version": "3.9.16"
  },
  "widgets": {
   "application/vnd.jupyter.widget-state+json": {
    "state": {
     "126415c750304a91bffda0a7fc5502ab": {
      "model_module": "jupyter-matplotlib",
      "model_module_version": "^0.11",
      "model_name": "MPLCanvasModel",
      "state": {
       "_data_url": "data:image/png;base64,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",
       "_figure_label": "Figure 2",
       "_model_module_version": "^0.11",
       "_size": [
        1000,
        300
       ],
       "_view_module_version": "^0.11",
       "layout": "IPY_MODEL_8c2e118456e14cd3b5b208757809404d",
       "toolbar": "IPY_MODEL_c135dd7cd866497ba1147c9bc5468eb6",
       "toolbar_position": "left"
      }
     },
     "412f0a75a9ae4f85b4314d37905b0f53": {
      "model_module": "@jupyter-widgets/base",
      "model_module_version": "2.0.0",
      "model_name": "LayoutModel",
      "state": {}
     },
     "7fcde0e4ec674293afb66ad4fac87682": {
      "model_module": "jupyter-matplotlib",
      "model_module_version": "^0.11",
      "model_name": "ToolbarModel",
      "state": {
       "_model_module_version": "^0.11",
       "_view_module_version": "^0.11",
       "collapsed": true,
       "layout": "IPY_MODEL_d6496c37149643818fab7793ac5385c5",
       "orientation": "vertical",
       "toolitems": [
        [
         "Home",
         "Reset original view",
         "home",
         "home"
        ],
        [
         "Back",
         "Back to previous view",
         "arrow-left",
         "back"
        ],
        [
         "Forward",
         "Forward to next view",
         "arrow-right",
         "forward"
        ],
        [
         "Pan",
         "Left button pans, Right button zooms\nx/y fixes axis, CTRL fixes aspect",
         "arrows",
         "pan"
        ],
        [
         "Zoom",
         "Zoom to rectangle\nx/y fixes axis",
         "square-o",
         "zoom"
        ],
        [
         "Download",
         "Download plot",
         "floppy-o",
         "save_figure"
        ]
       ]
      }
     },
     "8c2e118456e14cd3b5b208757809404d": {
      "model_module": "@jupyter-widgets/base",
      "model_module_version": "2.0.0",
      "model_name": "LayoutModel",
      "state": {}
     },
     "c135dd7cd866497ba1147c9bc5468eb6": {
      "model_module": "jupyter-matplotlib",
      "model_module_version": "^0.11",
      "model_name": "ToolbarModel",
      "state": {
       "_model_module_version": "^0.11",
       "_view_module_version": "^0.11",
       "collapsed": true,
       "layout": "IPY_MODEL_412f0a75a9ae4f85b4314d37905b0f53",
       "orientation": "vertical",
       "toolitems": [
        [
         "Home",
         "Reset original view",
         "home",
         "home"
        ],
        [
         "Back",
         "Back to previous view",
         "arrow-left",
         "back"
        ],
        [
         "Forward",
         "Forward to next view",
         "arrow-right",
         "forward"
        ],
        [
         "Pan",
         "Left button pans, Right button zooms\nx/y fixes axis, CTRL fixes aspect",
         "arrows",
         "pan"
        ],
        [
         "Zoom",
         "Zoom to rectangle\nx/y fixes axis",
         "square-o",
         "zoom"
        ],
        [
         "Download",
         "Download plot",
         "floppy-o",
         "save_figure"
        ]
       ]
      }
     },
     "c1d6d8c5e572401aba6d219f0153a04d": {
      "model_module": "@jupyter-widgets/base",
      "model_module_version": "2.0.0",
      "model_name": "LayoutModel",
      "state": {}
     },
     "d6496c37149643818fab7793ac5385c5": {
      "model_module": "@jupyter-widgets/base",
      "model_module_version": "2.0.0",
      "model_name": "LayoutModel",
      "state": {}
     },
     "db7bd05dce30442bb1200d01adf52cb2": {
      "model_module": "jupyter-matplotlib",
      "model_module_version": "^0.11",
      "model_name": "MPLCanvasModel",
      "state": {
       "_data_url": "data:image/png;base64,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",
       "_figure_label": "Figure 1",
       "_model_module_version": "^0.11",
       "_size": [
        640,
        479.99999999999994
       ],
       "_view_module_version": "^0.11",
       "layout": "IPY_MODEL_c1d6d8c5e572401aba6d219f0153a04d",
       "toolbar": "IPY_MODEL_7fcde0e4ec674293afb66ad4fac87682",
       "toolbar_position": "left"
      }
     }
    },
    "version_major": 2,
    "version_minor": 0
   }
  }
 },
 "nbformat": 4,
 "nbformat_minor": 5
}
